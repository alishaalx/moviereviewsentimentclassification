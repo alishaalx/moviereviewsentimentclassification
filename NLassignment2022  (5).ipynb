{
  "cells": [
    {
      "cell_type": "markdown",
      "metadata": {
        "id": "f2S8I2ny-ovS"
      },
      "source": [
        "# Sentiment Classification\n",
        "\n",
        "In this notebook, we will be investigating NLP methods for distinguishing positive and negative reviews written about movies.\n",
        "\n",
        "we use movie_reviews from nltk for the purpose.\n",
        "\n"
      ]
    },
    {
      "cell_type": "code",
      "execution_count": 88,
      "metadata": {
        "colab": {
          "base_uri": "https://localhost:8080/"
        },
        "id": "nk8JTP88A8vs",
        "outputId": "1787e0b9-ccc4-4794-ca2d-89d71389e83c"
      },
      "outputs": [
        {
          "name": "stderr",
          "output_type": "stream",
          "text": [
            "[nltk_data] Downloading package punkt to /root/nltk_data...\n",
            "[nltk_data]   Package punkt is already up-to-date!\n",
            "[nltk_data] Downloading package stopwords to /root/nltk_data...\n",
            "[nltk_data]   Package stopwords is already up-to-date!\n",
            "[nltk_data] Downloading package movie_reviews to /root/nltk_data...\n",
            "[nltk_data]   Package movie_reviews is already up-to-date!\n"
          ]
        }
      ],
      "source": [
        "#do not change the code in this cell\n",
        "#preliminary imports\n",
        "\n",
        "#set up nltk\n",
        "import nltk\n",
        "nltk.download('punkt')\n",
        "nltk.download('stopwords')\n",
        "nltk.download('movie_reviews')\n",
        "from nltk.corpus import stopwords\n",
        "from nltk.tokenize import word_tokenize\n",
        "from nltk.corpus import movie_reviews\n",
        "\n",
        "#for setting up training and testing data\n",
        "import random\n",
        "\n",
        "#useful other tools\n",
        "import re\n",
        "import pandas as pd\n",
        "import matplotlib.pyplot as plt\n",
        "%matplotlib inline\n",
        "from itertools import zip_longest\n",
        "from nltk.probability import FreqDist\n",
        "from nltk.classify.api import ClassifierI\n"
      ]
    },
    {
      "cell_type": "code",
      "execution_count": 90,
      "metadata": {
        "id": "BHBkzAccCVaZ"
      },
      "outputs": [],
      "source": [
        "#do not change the code in this cell\n",
        "def split_data(data, ratio=0.7): # when the second argument is not given, it defaults to 0.7\n",
        "    \"\"\"\n",
        "    Given corpus generator and ratio:\n",
        "     - partitions the corpus into training data and test data, where the proportion in train is ratio,\n",
        "\n",
        "    :param data: A corpus generator.\n",
        "    :param ratio: The proportion of training documents (default 0.7)\n",
        "    :return: a pair (tuple) of lists where the first element of the \n",
        "            pair is a list of the training data and the second is a list of the test data.\n",
        "    \"\"\"\n",
        "    \n",
        "    data = list(data)  \n",
        "    n = len(data)  \n",
        "    train_indices = random.sample(range(n), int(n * ratio))          \n",
        "    test_indices = list(set(range(n)) - set(train_indices))    \n",
        "    train = [data[i] for i in train_indices]           \n",
        "    test = [data[i] for i in test_indices]             \n",
        "    return (train, test)                       \n",
        " \n",
        "\n",
        "def get_train_test_data():\n",
        "    \n",
        "    #get ids of positive and negative movie reviews\n",
        "    pos_review_ids=movie_reviews.fileids('pos')\n",
        "    neg_review_ids=movie_reviews.fileids('neg')\n",
        "   \n",
        "    #split positive and negative data into training and testing sets\n",
        "    pos_train_ids, pos_test_ids = split_data(pos_review_ids)\n",
        "    neg_train_ids, neg_test_ids = split_data(neg_review_ids)\n",
        "    #add labels to the data and concatenate\n",
        "    training = [(movie_reviews.words(f),'pos') for f in pos_train_ids]+[(movie_reviews.words(f),'neg') for f in neg_train_ids]\n",
        "    testing = [(movie_reviews.words(f),'pos') for f in pos_test_ids]+[(movie_reviews.words(f),'neg') for f in neg_test_ids]\n",
        "   \n",
        "    return training, testing"
      ]
    },
    {
      "cell_type": "markdown",
      "metadata": {
        "id": "1N3LWwBYICPP"
      },
      "source": [
        "When you have run the cell below, your unique training and testing samples will be stored in `training_data` and `testing_data`"
      ]
    },
    {
      "cell_type": "code",
      "execution_count": 91,
      "metadata": {
        "colab": {
          "base_uri": "https://localhost:8080/"
        },
        "id": "HJLegkdPFUJA",
        "outputId": "83397b5c-4939-478b-914e-5385726fb32d"
      },
      "outputs": [
        {
          "name": "stdout",
          "output_type": "stream",
          "text": [
            "The amount of training data is 1400\n",
            "The amount of testing data is 600\n",
            "The representation of a single data item is below\n",
            "(['matthew', 'broderick', 'and', 'high', 'school', ...], 'pos')\n"
          ]
        }
      ],
      "source": [
        "#do not change the code in this cell\n",
        "random.seed(candidateno)\n",
        "training_data,testing_data=get_train_test_data()\n",
        "print(\"The amount of training data is {}\".format(len(training_data)))\n",
        "print(\"The amount of testing data is {}\".format(len(testing_data)))\n",
        "print(\"The representation of a single data item is below\")\n",
        "print(training_data[0])\n",
        "#print(training_data.categories())"
      ]
    },
    {
      "cell_type": "markdown",
      "metadata": {
        "id": "w-4IajExQCxA"
      },
      "source": [
        "Currently,we have training data and testing data generated from the above code."
      ]
    },
    {
      "cell_type": "code",
      "execution_count": 92,
      "metadata": {
        "id": "JXHrtNCg2XT4"
      },
      "outputs": [],
      "source": [
        "#preprocessing step : convert to lower(already lowered),remove stop words. \n",
        "stop_words = stopwords.words('english')\n",
        "def normalise(wordlist):\n",
        "    lowered=[word.lower() for word in wordlist] #don't actually need this as already lowered\n",
        "    filtered_words=[word for word in lowered if word.isalpha() and word not in stop_words]\n",
        "    return filtered_words"
      ]
    },
    {
      "cell_type": "code",
      "execution_count": 93,
      "metadata": {
        "id": "gvFu36xZ2XT5"
      },
      "outputs": [],
      "source": [
        "#normalise the training and testing data and obtain frequency distribution of both\n",
        "training_norm=[(FreqDist(normalise(wordlist)),label) for (wordlist,label) in training_data]\n",
        "testing_norm=[(FreqDist(normalise(wordlist)),label) for (wordlist,label) in testing_data] "
      ]
    },
    {
      "cell_type": "code",
      "execution_count": 94,
      "metadata": {
        "colab": {
          "base_uri": "https://localhost:8080/"
        },
        "id": "RgePc9hV2XT_",
        "outputId": "01cc233a-8fc2-41b7-d78c-348766887ae5"
      },
      "outputs": [
        {
          "name": "stdout",
          "output_type": "stream",
          "text": [
            "Q1 : List of  10 positive words : \n",
            " ['film', 'life', 'also', 'great', 'best', 'world', 'story', 'well', 'many', 'one']\n"
          ]
        }
      ],
      "source": [
        "#create frequency distribution of negative and positive words separately\n",
        "\n",
        "positive_freq_dist=FreqDist()\n",
        "negative_freq_dist=FreqDist()\n",
        "\n",
        "for reviewDist,label in training_norm:\n",
        "    if label=='pos':\n",
        "       positive_freq_dist+=reviewDist\n",
        "    if label=='neg':\n",
        "       negative_freq_dist+=reviewDist\n",
        "\n",
        "#1a. List of 10 postive words      \n",
        "\n",
        "positive_words=positive_freq_dist-negative_freq_dist  #compute difference of positive and negative words\n",
        "most_used_positive=positive_words.most_common()\n",
        "positive_words_only=[word for (word,freq) in most_used_positive[:10]]\n",
        "print(\"Q1 : List of  10 positive words : \\n\",positive_words_only)"
      ]
    },
    {
      "cell_type": "code",
      "execution_count": 95,
      "metadata": {
        "colab": {
          "base_uri": "https://localhost:8080/"
        },
        "id": "i76L_FDEH1xI",
        "outputId": "2e97d566-8aff-4440-ff50-599b443bfbb0"
      },
      "outputs": [
        {
          "name": "stdout",
          "output_type": "stream",
          "text": [
            "Q2 : List of  10 Negative words : \n",
            " ['movie', 'bad', 'plot', 'worst', 'script', 'boring', 'nothing', 'stupid', 'could', 'supposed']\n"
          ]
        }
      ],
      "source": [
        "#1b.List of 10 negative words\n",
        "\n",
        "negative_words=negative_freq_dist-positive_freq_dist #compute difference of negative and positive words\n",
        "most_used_neg=negative_words.most_common()\n",
        "negative_words_only=[word for (word,freq) in most_used_neg[:10]]\n",
        "print(\"Q2 : List of  10 Negative words : \\n\",negative_words_only)"
      ]
    },
    {
      "cell_type": "code",
      "execution_count": 96,
      "metadata": {
        "colab": {
          "base_uri": "https://localhost:8080/",
          "height": 35
        },
        "id": "_EHzwWdWcj35",
        "outputId": "57a4b794-501e-4fa1-d629-6758d0b77105"
      },
      "outputs": [
        {
          "data": {
            "application/vnd.google.colaboratory.intrinsic+json": {
              "type": "string"
            },
            "text/plain": [
              "'neg'"
            ]
          },
          "execution_count": 96,
          "metadata": {},
          "output_type": "execute_result"
        }
      ],
      "source": [
        "#   Q2: word list classifier to classify reviews positive or negative\n",
        "\n",
        "from nltk.classify.api import ClassifierI\n",
        "import random\n",
        "\n",
        "class MovieClassifier(ClassifierI): \n",
        "\n",
        "    def __init__(self, pos, neg): \n",
        "        self._pos = pos \n",
        "        self._neg = neg \n",
        "         \n",
        "\n",
        "    def classify(self, doc): \n",
        "        #doc is a FreqDist\n",
        "        sc = 0\n",
        "        \n",
        "        #assigning appropriate values to sc\n",
        "        for word,value in doc.items():\n",
        "            if word in self._pos:\n",
        "                sc+=value\n",
        "            if word in self._neg:\n",
        "                sc-=value\n",
        "        \n",
        "        if sc < 0 :\n",
        "            return \"neg\"\n",
        "        elif sc > 0:\n",
        "            return \"pos\"\n",
        "        else:\n",
        "            return random.choice(movie_reviews.categories()) \n",
        "\n",
        "    def classify_many(self, docs): \n",
        "        return [self.classify(doc) for doc in docs]   \n",
        "\n",
        "    def labels(self): \n",
        "        return (\"pos\", \"neg\")\n",
        "\n",
        "\n",
        "classifier = MovieClassifier(positive_words_only, negative_words_only)\n",
        "classifier.classify(FreqDist(\" the movies was bad\".split()))"
      ]
    },
    {
      "cell_type": "code",
      "execution_count": 97,
      "metadata": {
        "id": "1LQc8bsA2XUI"
      },
      "outputs": [],
      "source": [
        "def classifier_evaluate(cls, test_data):\n",
        "    '''\n",
        "    cls: an instance of a classifier object which has a classify method which returns \"pos\" or \"neg\"\n",
        "    test_data: a list of pairs where each pair is a FreqDist rep of a doc and its label\n",
        "  \n",
        "    returns: float point number which is the accuracy of the classifier on the test data provided \n",
        "    '''\n",
        "    accu = 0\n",
        "    docs,goldstandard=zip(*test_data) #note this neat pythonic way of turning a list of pairs into a pair of lists\n",
        "    #pass all of the docs to the classifier and get back a list of predictions\n",
        "    predictions=cls.classify_many(docs)\n",
        "    #zip the predictions with the goldstandard labels and compare\n",
        "    for prediction,goldlabel in zip(predictions,goldstandard):\n",
        "        if prediction==goldlabel:\n",
        "            accu+=1\n",
        "    \n",
        "    return accu / (len(test_data))"
      ]
    },
    {
      "cell_type": "code",
      "execution_count": 98,
      "metadata": {
        "id": "R_i80ceP2XUJ"
      },
      "outputs": [],
      "source": [
        "#       Q3a.Calculate Accuracy of wordlist classifier\n",
        "\n",
        "my_pos = positive_words_only\n",
        "my_neg = negative_words_only\n",
        "MovieClassifier1=MovieClassifier(my_pos,my_neg)\n",
        "#Evaluate on Testing data\n",
        "accu_test=classifier_evaluate(MovieClassifier1,testing_norm)"
      ]
    },
    {
      "cell_type": "code",
      "execution_count": 99,
      "metadata": {
        "id": "VbYwwhcs2XUL"
      },
      "outputs": [],
      "source": [
        "class ConfusionMatrix:\n",
        "    def __init__(self,predictions,goldstandard,classes=(\"pos\",\"neg\")):\n",
        "    \n",
        "        (self.c1,self.c2)=classes\n",
        "        #self.predictions=predictions\n",
        "        self.TP=0\n",
        "        self.FP=0\n",
        "        self.FN=0\n",
        "        self.TN=0\n",
        "        for p,g in zip(predictions,goldstandard):\n",
        "            if g==self.c1:\n",
        "                if p==self.c1:\n",
        "                    self.TP+=1\n",
        "                else:\n",
        "                    self.FN+=1\n",
        "        \n",
        "            elif p==self.c1:\n",
        "                self.FP+=1\n",
        "            else:\n",
        "                self.TN+=1\n",
        "        \n",
        "    #calculate prescion\n",
        "    def precision(self):\n",
        "        p=0\n",
        "\n",
        "        p = self.TP / (self.TP + self.FP)\n",
        "    \n",
        "        return p\n",
        "    #calculate recall\n",
        "    def recall(self):\n",
        "        r=0\n",
        "        \n",
        "        r = self.TP / (self.TP + self.FN)\n",
        "        return r\n",
        "    #calculate f1\n",
        "    def f1(self):\n",
        "        f1=0\n",
        "        p=self.precision()\n",
        "        r=self.recall()\n",
        "        f1= (2*p*r)/(p+r)\n",
        "        return f1"
      ]
    },
    {
      "cell_type": "code",
      "execution_count": 100,
      "metadata": {
        "colab": {
          "base_uri": "https://localhost:8080/"
        },
        "id": "aE7wIJ4rqeDO",
        "outputId": "8afe681b-608b-4874-c991-5ab18d232aaf"
      },
      "outputs": [
        {
          "name": "stdout",
          "output_type": "stream",
          "text": [
            "278\n",
            "228\n",
            "72\n",
            "22\n"
          ]
        }
      ],
      "source": [
        "#FIND the TN,FN,TP,FP for testing_data\n",
        "docs,labels=zip(*testing_norm) \n",
        "\n",
        "senti_cm=ConfusionMatrix(MovieClassifier1.classify_many(docs),labels)\n",
        "print(senti_cm.TP)\n",
        "print(senti_cm.FP)\n",
        "print(senti_cm.TN)\n",
        "print(senti_cm.FN)"
      ]
    },
    {
      "cell_type": "code",
      "execution_count": 101,
      "metadata": {
        "colab": {
          "base_uri": "https://localhost:8080/"
        },
        "id": "Scr13pEdcc4J",
        "outputId": "e3873354-ab09-406b-89ce-b90937b98b42"
      },
      "outputs": [
        {
          "name": "stdout",
          "output_type": "stream",
          "text": [
            "testing_data\n",
            "Accuracy :  0.5816666666666667\n",
            "prescion :  0.549407114624506\n",
            "Recall   :  0.9266666666666666\n",
            "F1 Score :  0.6898263027295286\n"
          ]
        }
      ],
      "source": [
        "# calculating prescion,recall,f1 for testinging set\n",
        "print(\"testing_data\")\n",
        "pw=senti_cm.precision()\n",
        "rw=senti_cm.recall()\n",
        "f1w=senti_cm.f1()\n",
        "print(\"Accuracy : \",accu_test)\n",
        "print(\"prescion : \",pw)\n",
        "print(\"Recall   : \",rw)\n",
        "print(\"F1 Score : \",f1w)"
      ]
    },
    {
      "cell_type": "code",
      "execution_count": 102,
      "metadata": {
        "id": "araLYkLOymVV"
      },
      "outputs": [],
      "source": [
        "#     4a. Naive Bayes Classifier\n",
        "from nltk.classify import NaiveBayesClassifier #importing the NaiveBayesClassifier from nltk"
      ]
    },
    {
      "cell_type": "code",
      "execution_count": 103,
      "metadata": {
        "id": "4YqXYc_2weT3"
      },
      "outputs": [],
      "source": [
        "naive_bayes=NaiveBayesClassifier.train(training_norm)"
      ]
    },
    {
      "cell_type": "code",
      "execution_count": 104,
      "metadata": {
        "id": "4HIB9LlFyu9a"
      },
      "outputs": [],
      "source": [
        "nbc=naive_bayes.classify_many(docs) #testing_data accessed from variable docs"
      ]
    },
    {
      "cell_type": "code",
      "execution_count": 105,
      "metadata": {
        "colab": {
          "base_uri": "https://localhost:8080/"
        },
        "id": "v_1p3-WSy1XT",
        "outputId": "90fec13f-9443-43d3-a335-4380e3e4bf58"
      },
      "outputs": [
        {
          "name": "stdout",
          "output_type": "stream",
          "text": [
            "Recall:\t\t 0.9933333333333333\n",
            "Precision:\t 0.5831702544031311\n",
            "F1:\t\t 0.7348951911220715\n",
            "Accuracy:\t 0.6416666666666667\n"
          ]
        }
      ],
      "source": [
        "#compute prescion,recall and f1 of Naive-Bayes Classifier\n",
        "\n",
        "cm1=ConfusionMatrix(nbc,labels,classes=(\"pos\",\"neg\"))\n",
        "anbc=classifier_evaluate(naive_bayes,testing_norm)\n",
        "pnbc=cm1.precision()\n",
        "rnbc=cm1.recall()\n",
        "f1nbc=cm1.f1()\n",
        "print(\"Recall:\\t\\t\",rnbc)\n",
        "print(\"Precision:\\t\",pnbc)\n",
        "print(\"F1:\\t\\t\",f1nbc)\n",
        "print(\"Accuracy:\\t\",anbc)"
      ]
    },
    {
      "cell_type": "code",
      "execution_count": 106,
      "metadata": {
        "colab": {
          "base_uri": "https://localhost:8080/",
          "height": 281
        },
        "id": "OZ0C10_a3Qps",
        "outputId": "1b0772ce-f517-4792-8dd3-6c1256c1eaa1"
      },
      "outputs": [
        {
          "data": {
            "image/png": "[encoded data removed]",
            "text/plain": [
              "<Figure size 432x288 with 1 Axes>"
            ]
          },
          "metadata": {
            "needs_background": "light"
          },
          "output_type": "display_data"
        }
      ],
      "source": [
        "#4b. comaparison of naive-bayes and word list classifier\n",
        "word_classifier=[accu_test,pw,rw,f1w]\n",
        "nb_classifier=[anbc,pnbc,rnbc,f1nbc]\n",
        "index = ['accuracy', 'precision','Recall','F1']\n",
        "df = pd.DataFrame({'word-list': word_classifier,\n",
        "                   'naive-bayes': nb_classifier}, index=index)\n",
        "\n",
        "ax = df.plot.bar(title=\"Word list classifier V/S Naive-Bayes Classifier\",rot=0)"
      ]
    },
    {
      "cell_type": "markdown",
      "metadata": {
        "id": "bytPkuHf2XUO"
      },
      "source": [
        "\n",
        "\n",
        "As we can see from the plot,all the parameters of measurements are higher for Naive-Bayes classifier.Since accuracy and precision is high we can easily identify both true positives and true negatives.Hence Naive Bayes can be recommended for systems where false positives dont have huge cost due to its high prescion.In the question we are working on a binary classification.Hence selecting any of the two is optionable however it is preferable to go with Naivebayes classifier due to its high speed and accuracy.Naive Bayes classifier assumes that the impact of a particular feature is independent of other faetures."
      ]
    },
    {
      "cell_type": "markdown",
      "metadata": {
        "id": "LGDXaVDqOSfY"
      },
      "source": [
        " an experiment into the impact of the **length of the wordlists** on the wordlist classifier.  \n",
        "\n",
        "\n",
        "\n",
        "\n"
      ]
    },
    {
      "cell_type": "markdown",
      "metadata": {
        "id": "UlxoUthX2XUP"
      },
      "source": []
    },
    {
      "cell_type": "code",
      "execution_count": 107,
      "metadata": {
        "id": "XyMZs7Hk56IP"
      },
      "outputs": [],
      "source": [
        "#find postive and negative words : function\n",
        "def most_frequent_words(posfreq,negfreq,topk):\n",
        "    difference=posfreq-negfreq\n",
        "    sorteddiff=difference.most_common()\n",
        "    justwords=[word for (word,freq) in sorteddiff[:topk]]\n",
        "    return justwords"
      ]
    },
    {
      "cell_type": "code",
      "execution_count": 108,
      "metadata": {
        "id": "T1L7mZ-k2XUQ"
      },
      "outputs": [],
      "source": [
        "class MovieClassifier_inher(MovieClassifier):\n",
        "    \n",
        "    def __init__(self,k):\n",
        "        self._k=k\n",
        "    \n",
        "    def train(self,training_data):\n",
        "        \n",
        "        pos_freq_dist=FreqDist()\n",
        "        neg_freq_dist=FreqDist()\n",
        "\n",
        "        for reviewDist,label in training_data:\n",
        "            if label=='pos':\n",
        "                pos_freq_dist+=reviewDist\n",
        "            else:\n",
        "                neg_freq_dist+=reviewDist\n",
        "                \n",
        "        self._pos=most_frequent_words(pos_freq_dist,neg_freq_dist,self._k)\n",
        "        self._neg=most_frequent_words(neg_freq_dist,pos_freq_dist,self._k)\n",
        "    "
      ]
    },
    {
      "cell_type": "markdown",
      "metadata": {
        "id": "oqhSt_Yu2rL2"
      },
      "source": [
        "\n",
        "Let us now consider a list of multiple numbers where each number is a wordlist size.Find the Accuracy for each word list size and append the same into a list.Now create a dataframe of accuracies and plot a graph of the same."
      ]
    },
    {
      "cell_type": "code",
      "execution_count": 109,
      "metadata": {
        "colab": {
          "base_uri": "https://localhost:8080/",
          "height": 673
        },
        "id": "VT82P88M2XUQ",
        "outputId": "96c08abf-8521-4a83-ab1a-279dfd6c6d05"
      },
      "outputs": [
        {
          "data": {
            "text/html": [
              "\n",
              "  <div id=\"df-4a86e0df-b087-4c75-9df5-76798f5d0dc0\">\n",
              "    <div class=\"colab-df-container\">\n",
              "      <div>\n",
              "<style scoped>\n",
              "    .dataframe tbody tr th:only-of-type {\n",
              "        vertical-align: middle;\n",
              "    }\n",
              "\n",
              "    .dataframe tbody tr th {\n",
              "        vertical-align: top;\n",
              "    }\n",
              "\n",
              "    .dataframe thead th {\n",
              "        text-align: right;\n",
              "    }\n",
              "</style>\n",
              "<table border=\"1\" class=\"dataframe\">\n",
              "  <thead>\n",
              "    <tr style=\"text-align: right;\">\n",
              "      <th></th>\n",
              "      <th>Accuracy</th>\n",
              "    </tr>\n",
              "  </thead>\n",
              "  <tbody>\n",
              "    <tr>\n",
              "      <th>10</th>\n",
              "      <td>0.585000</td>\n",
              "    </tr>\n",
              "    <tr>\n",
              "      <th>20</th>\n",
              "      <td>0.591667</td>\n",
              "    </tr>\n",
              "    <tr>\n",
              "      <th>30</th>\n",
              "      <td>0.595000</td>\n",
              "    </tr>\n",
              "    <tr>\n",
              "      <th>40</th>\n",
              "      <td>0.581667</td>\n",
              "    </tr>\n",
              "    <tr>\n",
              "      <th>50</th>\n",
              "      <td>0.568333</td>\n",
              "    </tr>\n",
              "    <tr>\n",
              "      <th>60</th>\n",
              "      <td>0.568333</td>\n",
              "    </tr>\n",
              "    <tr>\n",
              "      <th>70</th>\n",
              "      <td>0.566667</td>\n",
              "    </tr>\n",
              "    <tr>\n",
              "      <th>80</th>\n",
              "      <td>0.568333</td>\n",
              "    </tr>\n",
              "    <tr>\n",
              "      <th>90</th>\n",
              "      <td>0.578333</td>\n",
              "    </tr>\n",
              "    <tr>\n",
              "      <th>100</th>\n",
              "      <td>0.590000</td>\n",
              "    </tr>\n",
              "    <tr>\n",
              "      <th>110</th>\n",
              "      <td>0.591667</td>\n",
              "    </tr>\n",
              "  </tbody>\n",
              "</table>\n",
              "</div>\n",
              "      <button class=\"colab-df-convert\" onclick=\"convertToInteractive('df-4a86e0df-b087-4c75-9df5-76798f5d0dc0')\"\n",
              "              title=\"Convert this dataframe to an interactive table.\"\n",
              "              style=\"display:none;\">\n",
              "        \n",
              "  <svg xmlns=\"http://www.w3.org/2000/svg\" height=\"24px\"viewBox=\"0 0 24 24\"\n",
              "       width=\"24px\">\n",
              "    <path d=\"M0 0h24v24H0V0z\" fill=\"none\"/>\n",
              "    <path d=\"M18.56 5.44l.94 2.06.94-2.06 2.06-.94-2.06-.94-.94-2.06-.94 2.06-2.06.94zm-11 1L8.5 8.5l.94-2.06 2.06-.94-2.06-.94L8.5 2.5l-.94 2.06-2.06.94zm10 10l.94 2.06.94-2.06 2.06-.94-2.06-.94-.94-2.06-.94 2.06-2.06.94z\"/><path d=\"M17.41 7.96l-1.37-1.37c-.4-.4-.92-.59-1.43-.59-.52 0-1.04.2-1.43.59L10.3 9.45l-7.72 7.72c-.78.78-.78 2.05 0 2.83L4 21.41c.39.39.9.59 1.41.59.51 0 1.02-.2 1.41-.59l7.78-7.78 2.81-2.81c.8-.78.8-2.07 0-2.86zM5.41 20L4 18.59l7.72-7.72 1.47 1.35L5.41 20z\"/>\n",
              "  </svg>\n",
              "      </button>\n",
              "      \n",
              "  <style>\n",
              "    .colab-df-container {\n",
              "      display:flex;\n",
              "      flex-wrap:wrap;\n",
              "      gap: 12px;\n",
              "    }\n",
              "\n",
              "    .colab-df-convert {\n",
              "      background-color: #E8F0FE;\n",
              "      border: none;\n",
              "      border-radius: 50%;\n",
              "      cursor: pointer;\n",
              "      display: none;\n",
              "      fill: #1967D2;\n",
              "      height: 32px;\n",
              "      padding: 0 0 0 0;\n",
              "      width: 32px;\n",
              "    }\n",
              "\n",
              "    .colab-df-convert:hover {\n",
              "      background-color: #E2EBFA;\n",
              "      box-shadow: 0px 1px 2px rgba(60, 64, 67, 0.3), 0px 1px 3px 1px rgba(60, 64, 67, 0.15);\n",
              "      fill: #174EA6;\n",
              "    }\n",
              "\n",
              "    [theme=dark] .colab-df-convert {\n",
              "      background-color: #3B4455;\n",
              "      fill: #D2E3FC;\n",
              "    }\n",
              "\n",
              "    [theme=dark] .colab-df-convert:hover {\n",
              "      background-color: #434B5C;\n",
              "      box-shadow: 0px 1px 3px 1px rgba(0, 0, 0, 0.15);\n",
              "      filter: drop-shadow(0px 1px 2px rgba(0, 0, 0, 0.3));\n",
              "      fill: #FFFFFF;\n",
              "    }\n",
              "  </style>\n",
              "\n",
              "      <script>\n",
              "        const buttonEl =\n",
              "          document.querySelector('#df-4a86e0df-b087-4c75-9df5-76798f5d0dc0 button.colab-df-convert');\n",
              "        buttonEl.style.display =\n",
              "          google.colab.kernel.accessAllowed ? 'block' : 'none';\n",
              "\n",
              "        async function convertToInteractive(key) {\n",
              "          const element = document.querySelector('#df-4a86e0df-b087-4c75-9df5-76798f5d0dc0');\n",
              "          const dataTable =\n",
              "            await google.colab.kernel.invokeFunction('convertToInteractive',\n",
              "                                                     [key], {});\n",
              "          if (!dataTable) return;\n",
              "\n",
              "          const docLinkHtml = 'Like what you see? Visit the ' +\n",
              "            '<a target=\"_blank\" href=https://colab.research.google.com/notebooks/data_table.ipynb>data table notebook</a>'\n",
              "            + ' to learn more about interactive tables.';\n",
              "          element.innerHTML = '';\n",
              "          dataTable['output_type'] = 'display_data';\n",
              "          await google.colab.output.renderOutput(dataTable, element);\n",
              "          const docLink = document.createElement('div');\n",
              "          docLink.innerHTML = docLinkHtml;\n",
              "          element.appendChild(docLink);\n",
              "        }\n",
              "      </script>\n",
              "    </div>\n",
              "  </div>\n",
              "  "
            ],
            "text/plain": [
              "     Accuracy\n",
              "10   0.585000\n",
              "20   0.591667\n",
              "30   0.595000\n",
              "40   0.581667\n",
              "50   0.568333\n",
              "60   0.568333\n",
              "70   0.566667\n",
              "80   0.568333\n",
              "90   0.578333\n",
              "100  0.590000\n",
              "110  0.591667"
            ]
          },
          "execution_count": 109,
          "metadata": {},
          "output_type": "execute_result"
        },
        {
          "data": {
            "image/png": "[encoded data removed]",
            "text/plain": [
              "<Figure size 432x288 with 1 Axes>"
            ]
          },
          "metadata": {
            "needs_background": "light"
          },
          "output_type": "display_data"
        }
      ],
      "source": [
        "from random import sample\n",
        "number_of_wordlist=[10,20,30,40,50,60,70,80,90,100,110]\n",
        "accuracies=[]\n",
        "for size in number_of_wordlist:\n",
        "    classifier_n = MovieClassifier_inher(size)\n",
        "    classifier_n.train(training_norm)\n",
        "    accuracy_2=classifier_evaluate(classifier_n,testing_norm)\n",
        "    accuracies.append(accuracy_2)\n",
        "\n",
        "df = pd.DataFrame({\n",
        "   'Accuracy': accuracies\n",
        "   }, index=number_of_wordlist)\n",
        "ax = df.plot(kind=\"line\",title=\"Experimental Results\")\n",
        "ax.set_ylabel(\"Accuracy\")\n",
        "ax.set_xlabel(\"Number_of_words\")\n",
        "df"
      ]
    },
    {
      "cell_type": "markdown",
      "metadata": {
        "id": "Ym-TGvYS2XUR"
      },
      "source": []
    },
    {
      "cell_type": "markdown",
      "metadata": {
        "id": "qBKzXZxpDyxW"
      },
      "source": [
        "After running the code and obtaining the line graph,it is clearly visible that accuracy of the classifier peaks around 20-30 word size.It then gradually decreases and keep reaches a minimum at 80 word size. visible that it then gradually decreases.It is also necessary to note that the peak vale of accuracy always stay around 0.59(20,100,110)\n",
        "In the next step let us take an average of 3 runs and check if pattern is still the same."
      ]
    },
    {
      "cell_type": "code",
      "execution_count": 110,
      "metadata": {
        "colab": {
          "base_uri": "https://localhost:8080/"
        },
        "id": "_svZEdqIFDth",
        "outputId": "567266bd-f007-4ce2-99ad-ea9fe87e806f"
      },
      "outputs": [
        {
          "name": "stdout",
          "output_type": "stream",
          "text": [
            "0.1938888888888889\n",
            "0\n",
            "0.3883333333333333\n",
            "0\n",
            "0.5833333333333333\n",
            "0\n",
            "0.19666666666666666\n",
            "1\n",
            "0.3911111111111111\n",
            "1\n",
            "0.5905555555555555\n",
            "1\n",
            "0.1977777777777778\n",
            "2\n",
            "0.39611111111111114\n",
            "2\n",
            "0.5911111111111111\n",
            "2\n",
            "0.1938888888888889\n",
            "3\n",
            "0.38611111111111107\n",
            "3\n",
            "0.5805555555555555\n",
            "3\n",
            "0.1922222222222222\n",
            "4\n",
            "0.3822222222222222\n",
            "4\n",
            "0.5738888888888889\n",
            "4\n",
            "0.1922222222222222\n",
            "5\n",
            "0.3827777777777778\n",
            "5\n",
            "0.5733333333333334\n",
            "5\n",
            "0.18833333333333332\n",
            "6\n",
            "0.37666666666666665\n",
            "6\n",
            "0.5644444444444444\n",
            "6\n",
            "0.18944444444444444\n",
            "7\n",
            "0.3794444444444444\n",
            "7\n",
            "0.5683333333333334\n",
            "7\n",
            "0.1927777777777778\n",
            "8\n",
            "0.3861111111111111\n",
            "8\n",
            "0.5788888888888889\n",
            "8\n",
            "0.19666666666666666\n",
            "9\n",
            "0.3933333333333333\n",
            "9\n",
            "0.5911111111111111\n",
            "9\n",
            "0.19666666666666666\n",
            "10\n",
            "0.39388888888888884\n",
            "10\n",
            "0.591111111111111\n",
            "10\n"
          ]
        }
      ],
      "source": [
        "number_of_runs=3\n",
        "accuracies=[0]*len(number_of_wordlist)\n",
        "for i in range(0,len(number_of_wordlist)):\n",
        "    \n",
        "    for run in range(0,number_of_runs):\n",
        "        classifier_m = MovieClassifier_inher(number_of_wordlist[i])\n",
        "        classifier_m.train(training_norm)\n",
        "        #results=classifier.classify_many(doc for (doc,label) in testing_norm)\n",
        "        # Testing the precision recall and f1 score of our model\n",
        "        #docs,labels=zip(*testing_data)\n",
        "        #senti_cm=ConfusionMatrix(results,labels)\n",
        "        accuracy2=classifier_evaluate(classifier_m,testing_norm)\n",
        "    #     print(accuracy2)\n",
        "        accuracies[i]+=(accuracy2/number_of_runs)\n",
        "        print(accuracies[i])\n",
        "        print(i)"
      ]
    },
    {
      "cell_type": "code",
      "execution_count": 86,
      "metadata": {
        "colab": {
          "base_uri": "https://localhost:8080/",
          "height": 673
        },
        "id": "CT6kmkQ6Fyhm",
        "outputId": "ffa37d5f-1097-4ff4-8739-d0ff4d0bec3a"
      },
      "outputs": [
        {
          "data": {
            "text/html": [
              "\n",
              "  <div id=\"df-3bbcaa44-f5e7-4e7e-a90c-11455386a76d\">\n",
              "    <div class=\"colab-df-container\">\n",
              "      <div>\n",
              "<style scoped>\n",
              "    .dataframe tbody tr th:only-of-type {\n",
              "        vertical-align: middle;\n",
              "    }\n",
              "\n",
              "    .dataframe tbody tr th {\n",
              "        vertical-align: top;\n",
              "    }\n",
              "\n",
              "    .dataframe thead th {\n",
              "        text-align: right;\n",
              "    }\n",
              "</style>\n",
              "<table border=\"1\" class=\"dataframe\">\n",
              "  <thead>\n",
              "    <tr style=\"text-align: right;\">\n",
              "      <th></th>\n",
              "      <th>Accuracy</th>\n",
              "    </tr>\n",
              "  </thead>\n",
              "  <tbody>\n",
              "    <tr>\n",
              "      <th>10</th>\n",
              "      <td>0.584444</td>\n",
              "    </tr>\n",
              "    <tr>\n",
              "      <th>20</th>\n",
              "      <td>0.595556</td>\n",
              "    </tr>\n",
              "    <tr>\n",
              "      <th>30</th>\n",
              "      <td>0.591111</td>\n",
              "    </tr>\n",
              "    <tr>\n",
              "      <th>40</th>\n",
              "      <td>0.582222</td>\n",
              "    </tr>\n",
              "    <tr>\n",
              "      <th>50</th>\n",
              "      <td>0.575000</td>\n",
              "    </tr>\n",
              "    <tr>\n",
              "      <th>60</th>\n",
              "      <td>0.572222</td>\n",
              "    </tr>\n",
              "    <tr>\n",
              "      <th>70</th>\n",
              "      <td>0.564444</td>\n",
              "    </tr>\n",
              "    <tr>\n",
              "      <th>80</th>\n",
              "      <td>0.570000</td>\n",
              "    </tr>\n",
              "    <tr>\n",
              "      <th>90</th>\n",
              "      <td>0.577778</td>\n",
              "    </tr>\n",
              "    <tr>\n",
              "      <th>100</th>\n",
              "      <td>0.590556</td>\n",
              "    </tr>\n",
              "    <tr>\n",
              "      <th>110</th>\n",
              "      <td>0.592778</td>\n",
              "    </tr>\n",
              "  </tbody>\n",
              "</table>\n",
              "</div>\n",
              "      <button class=\"colab-df-convert\" onclick=\"convertToInteractive('df-3bbcaa44-f5e7-4e7e-a90c-11455386a76d')\"\n",
              "              title=\"Convert this dataframe to an interactive table.\"\n",
              "              style=\"display:none;\">\n",
              "        \n",
              "  <svg xmlns=\"http://www.w3.org/2000/svg\" height=\"24px\"viewBox=\"0 0 24 24\"\n",
              "       width=\"24px\">\n",
              "    <path d=\"M0 0h24v24H0V0z\" fill=\"none\"/>\n",
              "    <path d=\"M18.56 5.44l.94 2.06.94-2.06 2.06-.94-2.06-.94-.94-2.06-.94 2.06-2.06.94zm-11 1L8.5 8.5l.94-2.06 2.06-.94-2.06-.94L8.5 2.5l-.94 2.06-2.06.94zm10 10l.94 2.06.94-2.06 2.06-.94-2.06-.94-.94-2.06-.94 2.06-2.06.94z\"/><path d=\"M17.41 7.96l-1.37-1.37c-.4-.4-.92-.59-1.43-.59-.52 0-1.04.2-1.43.59L10.3 9.45l-7.72 7.72c-.78.78-.78 2.05 0 2.83L4 21.41c.39.39.9.59 1.41.59.51 0 1.02-.2 1.41-.59l7.78-7.78 2.81-2.81c.8-.78.8-2.07 0-2.86zM5.41 20L4 18.59l7.72-7.72 1.47 1.35L5.41 20z\"/>\n",
              "  </svg>\n",
              "      </button>\n",
              "      \n",
              "  <style>\n",
              "    .colab-df-container {\n",
              "      display:flex;\n",
              "      flex-wrap:wrap;\n",
              "      gap: 12px;\n",
              "    }\n",
              "\n",
              "    .colab-df-convert {\n",
              "      background-color: #E8F0FE;\n",
              "      border: none;\n",
              "      border-radius: 50%;\n",
              "      cursor: pointer;\n",
              "      display: none;\n",
              "      fill: #1967D2;\n",
              "      height: 32px;\n",
              "      padding: 0 0 0 0;\n",
              "      width: 32px;\n",
              "    }\n",
              "\n",
              "    .colab-df-convert:hover {\n",
              "      background-color: #E2EBFA;\n",
              "      box-shadow: 0px 1px 2px rgba(60, 64, 67, 0.3), 0px 1px 3px 1px rgba(60, 64, 67, 0.15);\n",
              "      fill: #174EA6;\n",
              "    }\n",
              "\n",
              "    [theme=dark] .colab-df-convert {\n",
              "      background-color: #3B4455;\n",
              "      fill: #D2E3FC;\n",
              "    }\n",
              "\n",
              "    [theme=dark] .colab-df-convert:hover {\n",
              "      background-color: #434B5C;\n",
              "      box-shadow: 0px 1px 3px 1px rgba(0, 0, 0, 0.15);\n",
              "      filter: drop-shadow(0px 1px 2px rgba(0, 0, 0, 0.3));\n",
              "      fill: #FFFFFF;\n",
              "    }\n",
              "  </style>\n",
              "\n",
              "      <script>\n",
              "        const buttonEl =\n",
              "          document.querySelector('#df-3bbcaa44-f5e7-4e7e-a90c-11455386a76d button.colab-df-convert');\n",
              "        buttonEl.style.display =\n",
              "          google.colab.kernel.accessAllowed ? 'block' : 'none';\n",
              "\n",
              "        async function convertToInteractive(key) {\n",
              "          const element = document.querySelector('#df-3bbcaa44-f5e7-4e7e-a90c-11455386a76d');\n",
              "          const dataTable =\n",
              "            await google.colab.kernel.invokeFunction('convertToInteractive',\n",
              "                                                     [key], {});\n",
              "          if (!dataTable) return;\n",
              "\n",
              "          const docLinkHtml = 'Like what you see? Visit the ' +\n",
              "            '<a target=\"_blank\" href=https://colab.research.google.com/notebooks/data_table.ipynb>data table notebook</a>'\n",
              "            + ' to learn more about interactive tables.';\n",
              "          element.innerHTML = '';\n",
              "          dataTable['output_type'] = 'display_data';\n",
              "          await google.colab.output.renderOutput(dataTable, element);\n",
              "          const docLink = document.createElement('div');\n",
              "          docLink.innerHTML = docLinkHtml;\n",
              "          element.appendChild(docLink);\n",
              "        }\n",
              "      </script>\n",
              "    </div>\n",
              "  </div>\n",
              "  "
            ],
            "text/plain": [
              "     Accuracy\n",
              "10   0.584444\n",
              "20   0.595556\n",
              "30   0.591111\n",
              "40   0.582222\n",
              "50   0.575000\n",
              "60   0.572222\n",
              "70   0.564444\n",
              "80   0.570000\n",
              "90   0.577778\n",
              "100  0.590556\n",
              "110  0.592778"
            ]
          },
          "execution_count": 86,
          "metadata": {},
          "output_type": "execute_result"
        },
        {
          "data": {
            "image/png": "[encoded data removed]",
            "text/plain": [
              "<Figure size 432x288 with 1 Axes>"
            ]
          },
          "metadata": {
            "needs_background": "light"
          },
          "output_type": "display_data"
        }
      ],
      "source": [
        "df = pd.DataFrame({\n",
        "   'Accuracy': accuracies\n",
        "   }, index=number_of_wordlist)\n",
        "ax = df.plot(kind=\"line\",title=\"Experimental Results\")\n",
        "ax.set_ylabel(\"Accuracy\")\n",
        "ax.set_xlabel(\"Number_of_words\")\n",
        "df"
      ]
    },
    {
      "cell_type": "markdown",
      "metadata": {
        "id": "8lEGMgoKL3Vb"
      },
      "source": [
        "From the plot obtained,we can certain the same behavior even when we take an average of 3 runs. Hence we can conclude that the classifier gives highest accuracy when the word list is between 20 to 30. It then fluctates and decreases as the word size increases.\n",
        "Based on the experiment we can conclude that size of word list has a significant impact on the wordlist classifier regardless of the number of times it is run."
      ]
    },
    {
      "cell_type": "code",
      "execution_count": null,
      "metadata": {
        "id": "PtqCcG6wPsmf"
      },
      "outputs": [],
      "source": []
    }
  ],
  "metadata": {
    "colab": {
      "collapsed_sections": [],
      "provenance": []
    },
    "kernelspec": {
      "display_name": "Python 3",
      "language": "python",
      "name": "python3"
    },
    "language_info": {
      "codemirror_mode": {
        "name": "ipython",
        "version": 3
      },
      "file_extension": ".py",
      "mimetype": "text/x-python",
      "name": "python",
      "nbconvert_exporter": "python",
      "pygments_lexer": "ipython3",
      "version": "3.7.4"
    }
  },
  "nbformat": 4,
  "nbformat_minor": 0
}
